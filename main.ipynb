{
  "cells": [
    {
      "cell_type": "code",
      "execution_count": 1,
      "metadata": {
        "id": "aLhuK15mxSre"
      },
      "outputs": [],
      "source": [
        "import datetime\n",
        "import numpy as np\n",
        "import pandas as pd\n",
        "import yfinance as yf\n",
        "import matplotlib.pyplot as plt\n",
        "import matplotlib.dates as mdates\n",
        "from keras.models import Sequential\n",
        "from sklearn.metrics import r2_score\n",
        "from keras.layers import Dense, LSTM, Dropout\n",
        "from sklearn.preprocessing import MinMaxScaler\n",
        "from keras.callbacks import EarlyStopping, ModelCheckpoint\n",
        "\n",
        "SYMBOL = \"BTC-USD\"\n",
        "END_DATE = (datetime.date.today() - datetime.timedelta(days=1)).strftime(\"%Y-%m-%d\")\n",
        "date_range_1 = (\"2014-10-01\", \"2021-05-28\")\n",
        "date_range_2 = (\"2021-06-01\", END_DATE)"
      ]
    },
    {
      "attachments": {},
      "cell_type": "markdown",
      "metadata": {
        "id": "2Lr75K55VmwV"
      },
      "source": [
        "# Download historical data for training set"
      ]
    },
    {
      "cell_type": "code",
      "execution_count": 2,
      "metadata": {
        "colab": {
          "base_uri": "https://localhost:8080/"
        },
        "id": "yNQsZRs4VoK9",
        "outputId": "27198fea-97c1-4572-f452-8c0909565a48"
      },
      "outputs": [
        {
          "name": "stdout",
          "output_type": "stream",
          "text": [
            "\r[*********************100%***********************]  1 of 1 completed\n"
          ]
        }
      ],
      "source": [
        "data_1 = yf.download(SYMBOL, start=date_range_1[0], end=date_range_1[1], interval=\"1d\")\n",
        "data_1.to_csv(f\"{SYMBOL}_train_set.csv\")"
      ]
    },
    {
      "attachments": {},
      "cell_type": "markdown",
      "metadata": {
        "id": "4-BXo1U1VxeG"
      },
      "source": [
        "# Download recent data for testing set"
      ]
    },
    {
      "cell_type": "code",
      "execution_count": 3,
      "metadata": {
        "colab": {
          "base_uri": "https://localhost:8080/"
        },
        "id": "JfNCPKTcV0xV",
        "outputId": "3d3d1875-679f-436f-8671-6dd2fcc30af5"
      },
      "outputs": [
        {
          "name": "stdout",
          "output_type": "stream",
          "text": [
            "\r[*********************100%***********************]  1 of 1 completed\n"
          ]
        }
      ],
      "source": [
        "data_2 = yf.download(SYMBOL, start=date_range_2[0], end=date_range_2[1], interval=\"1d\")\n",
        "data_2.to_csv(f\"{SYMBOL}_test_set.csv\")"
      ]
    },
    {
      "attachments": {},
      "cell_type": "markdown",
      "metadata": {
        "id": "38AnsSaCV4QV"
      },
      "source": [
        "# Import the training set"
      ]
    },
    {
      "cell_type": "code",
      "execution_count": 4,
      "metadata": {
        "id": "FaWNa0TvV8SN"
      },
      "outputs": [],
      "source": [
        "dataset_train = pd.read_csv(f\"{SYMBOL}_train_set.csv\")\n",
        "training_set = dataset_train.iloc[:, 4:5].values # Consider only the 'Close' price for training"
      ]
    },
    {
      "attachments": {},
      "cell_type": "markdown",
      "metadata": {
        "id": "BZ2iIP3gWCrV"
      },
      "source": [
        "# Feature Scaling"
      ]
    },
    {
      "cell_type": "code",
      "execution_count": 5,
      "metadata": {
        "id": "XMSGKU9WWF59"
      },
      "outputs": [],
      "source": [
        "sc = MinMaxScaler(feature_range=(0, 1))\n",
        "training_set_scaled = sc.fit_transform(training_set)"
      ]
    },
    {
      "attachments": {},
      "cell_type": "markdown",
      "metadata": {
        "id": "RFz0G3oXWI8d"
      },
      "source": [
        "# Creating a data structure with TIMESTEPS timesteps and 1 output"
      ]
    },
    {
      "cell_type": "code",
      "execution_count": 6,
      "metadata": {
        "id": "erxXGE72WLwO"
      },
      "outputs": [],
      "source": [
        "TIMESTEPS = 60\n",
        "X_train = []\n",
        "y_train = []"
      ]
    },
    {
      "attachments": {},
      "cell_type": "markdown",
      "metadata": {
        "id": "1DscRcnhWPdN"
      },
      "source": [
        "# Generate training sequences with respective outputs"
      ]
    },
    {
      "cell_type": "code",
      "execution_count": 7,
      "metadata": {
        "id": "DawA9Cz8WTuN"
      },
      "outputs": [],
      "source": [
        "for i in range(TIMESTEPS, len(training_set_scaled)):\n",
        "  X_train.append(training_set_scaled[i-TIMESTEPS:i, 0])  # Input sequence of 60 timesteps\n",
        "  y_train.append(training_set_scaled[i, 0])  # Output value\n",
        "\n",
        "X_train, y_train = np.array(X_train), np.array(y_train)"
      ]
    },
    {
      "attachments": {},
      "cell_type": "markdown",
      "metadata": {
        "id": "NU13mxUoW_Fm"
      },
      "source": [
        "# Reshaping"
      ]
    },
    {
      "cell_type": "code",
      "execution_count": 8,
      "metadata": {
        "id": "DhxFL2gNXAHO"
      },
      "outputs": [],
      "source": [
        "X_train = np.reshape(X_train, (X_train.shape[0], X_train.shape[1], 1))"
      ]
    },
    {
      "attachments": {},
      "cell_type": "markdown",
      "metadata": {
        "id": "PkNNdEnrXB-u"
      },
      "source": [
        "# Build the LSTM model"
      ]
    },
    {
      "cell_type": "code",
      "execution_count": 9,
      "metadata": {
        "id": "SXOYnNRkXEr9"
      },
      "outputs": [],
      "source": [
        "regressor = Sequential()\n",
        "regressor.add(LSTM(units=50, return_sequences=True, input_shape=(X_train.shape[1], 1)))\n",
        "regressor.add(Dropout(0.2))\n",
        "regressor.add(LSTM(units=50, return_sequences=True))\n",
        "regressor.add(Dropout(0.2))\n",
        "regressor.add(LSTM(units=50, return_sequences=True))\n",
        "regressor.add(Dropout(0.2))\n",
        "regressor.add(LSTM(units=50))\n",
        "regressor.add(Dropout(0.2))\n",
        "regressor.add(Dense(units=1))\n",
        "regressor.compile(optimizer='adam', loss='mean_squared_error')"
      ]
    },
    {
      "attachments": {},
      "cell_type": "markdown",
      "metadata": {
        "id": "yN_761wwYB3v"
      },
      "source": [
        "# Define callbacks"
      ]
    },
    {
      "cell_type": "code",
      "execution_count": 10,
      "metadata": {
        "id": "jQWBIN8MYCwl"
      },
      "outputs": [],
      "source": [
        "early_stopping = EarlyStopping(patience=20, monitor='val_loss', mode='min', verbose=1)\n",
        "model_checkpoint = ModelCheckpoint(filepath='./model_checkpoint.h5', monitor='val_loss', save_best_only=True, verbose=1)"
      ]
    },
    {
      "attachments": {},
      "cell_type": "markdown",
      "metadata": {
        "id": "NKq0VgQ8YFkW"
      },
      "source": [
        "# Train the LSTM model with callbacks"
      ]
    },
    {
      "cell_type": "code",
      "execution_count": 11,
      "metadata": {
        "colab": {
          "base_uri": "https://localhost:8080/"
        },
        "id": "IGINXLbhYIf1",
        "outputId": "b48ad288-0610-4066-9570-72997a4e834c"
      },
      "outputs": [
        {
          "name": "stdout",
          "output_type": "stream",
          "text": [
            "Epoch 1/100\n",
            "60/60 [==============================] - ETA: 0s - loss: 8.3693e-04\n",
            "Epoch 1: val_loss improved from inf to 0.01531, saving model to ./model_checkpoint.h5\n",
            "60/60 [==============================] - 20s 162ms/step - loss: 8.3693e-04 - val_loss: 0.0153\n",
            "Epoch 2/100\n",
            "60/60 [==============================] - ETA: 0s - loss: 3.3299e-04\n",
            "Epoch 2: val_loss improved from 0.01531 to 0.01165, saving model to ./model_checkpoint.h5\n",
            "60/60 [==============================] - 6s 101ms/step - loss: 3.3299e-04 - val_loss: 0.0116\n",
            "Epoch 3/100\n",
            "60/60 [==============================] - ETA: 0s - loss: 2.9612e-04\n",
            "Epoch 3: val_loss did not improve from 0.01165\n",
            "60/60 [==============================] - 5s 91ms/step - loss: 2.9612e-04 - val_loss: 0.0149\n",
            "Epoch 4/100\n",
            "60/60 [==============================] - ETA: 0s - loss: 2.3666e-04\n",
            "Epoch 4: val_loss did not improve from 0.01165\n",
            "60/60 [==============================] - 6s 101ms/step - loss: 2.3666e-04 - val_loss: 0.0251\n",
            "Epoch 5/100\n",
            "60/60 [==============================] - ETA: 0s - loss: 2.1460e-04\n",
            "Epoch 5: val_loss did not improve from 0.01165\n",
            "60/60 [==============================] - 6s 93ms/step - loss: 2.1460e-04 - val_loss: 0.0211\n",
            "Epoch 6/100\n",
            "60/60 [==============================] - ETA: 0s - loss: 2.1649e-04\n",
            "Epoch 6: val_loss did not improve from 0.01165\n",
            "60/60 [==============================] - 6s 102ms/step - loss: 2.1649e-04 - val_loss: 0.0154\n",
            "Epoch 7/100\n",
            "60/60 [==============================] - ETA: 0s - loss: 1.9669e-04\n",
            "Epoch 7: val_loss did not improve from 0.01165\n",
            "60/60 [==============================] - 6s 92ms/step - loss: 1.9669e-04 - val_loss: 0.0219\n",
            "Epoch 8/100\n",
            "60/60 [==============================] - ETA: 0s - loss: 1.9628e-04\n",
            "Epoch 8: val_loss did not improve from 0.01165\n",
            "60/60 [==============================] - 6s 102ms/step - loss: 1.9628e-04 - val_loss: 0.0240\n",
            "Epoch 9/100\n",
            "60/60 [==============================] - ETA: 0s - loss: 1.9894e-04\n",
            "Epoch 9: val_loss did not improve from 0.01165\n",
            "60/60 [==============================] - 6s 92ms/step - loss: 1.9894e-04 - val_loss: 0.0195\n",
            "Epoch 10/100\n",
            "60/60 [==============================] - ETA: 0s - loss: 1.9841e-04\n",
            "Epoch 10: val_loss did not improve from 0.01165\n",
            "60/60 [==============================] - 6s 102ms/step - loss: 1.9841e-04 - val_loss: 0.0172\n",
            "Epoch 11/100\n",
            "60/60 [==============================] - ETA: 0s - loss: 1.6536e-04\n",
            "Epoch 11: val_loss did not improve from 0.01165\n",
            "60/60 [==============================] - 7s 111ms/step - loss: 1.6536e-04 - val_loss: 0.0141\n",
            "Epoch 12/100\n",
            "60/60 [==============================] - ETA: 0s - loss: 1.7079e-04\n",
            "Epoch 12: val_loss did not improve from 0.01165\n",
            "60/60 [==============================] - 6s 102ms/step - loss: 1.7079e-04 - val_loss: 0.0163\n",
            "Epoch 13/100\n",
            "60/60 [==============================] - ETA: 0s - loss: 1.5108e-04\n",
            "Epoch 13: val_loss did not improve from 0.01165\n",
            "60/60 [==============================] - 6s 93ms/step - loss: 1.5108e-04 - val_loss: 0.0178\n",
            "Epoch 14/100\n",
            "60/60 [==============================] - ETA: 0s - loss: 1.4369e-04\n",
            "Epoch 14: val_loss did not improve from 0.01165\n",
            "60/60 [==============================] - 6s 103ms/step - loss: 1.4369e-04 - val_loss: 0.0153\n",
            "Epoch 15/100\n",
            "60/60 [==============================] - ETA: 0s - loss: 1.4396e-04\n",
            "Epoch 15: val_loss did not improve from 0.01165\n",
            "60/60 [==============================] - 6s 93ms/step - loss: 1.4396e-04 - val_loss: 0.0132\n",
            "Epoch 16/100\n",
            "60/60 [==============================] - ETA: 0s - loss: 1.3640e-04\n",
            "Epoch 16: val_loss did not improve from 0.01165\n",
            "60/60 [==============================] - 6s 103ms/step - loss: 1.3640e-04 - val_loss: 0.0138\n",
            "Epoch 17/100\n",
            "60/60 [==============================] - ETA: 0s - loss: 1.5915e-04\n",
            "Epoch 17: val_loss did not improve from 0.01165\n",
            "60/60 [==============================] - 6s 93ms/step - loss: 1.5915e-04 - val_loss: 0.0154\n",
            "Epoch 18/100\n",
            "60/60 [==============================] - ETA: 0s - loss: 1.5145e-04\n",
            "Epoch 18: val_loss improved from 0.01165 to 0.00785, saving model to ./model_checkpoint.h5\n",
            "60/60 [==============================] - 6s 103ms/step - loss: 1.5145e-04 - val_loss: 0.0078\n",
            "Epoch 19/100\n",
            "60/60 [==============================] - ETA: 0s - loss: 1.3463e-04\n",
            "Epoch 19: val_loss did not improve from 0.00785\n",
            "60/60 [==============================] - 6s 101ms/step - loss: 1.3463e-04 - val_loss: 0.0082\n",
            "Epoch 20/100\n",
            "60/60 [==============================] - ETA: 0s - loss: 1.3163e-04\n",
            "Epoch 20: val_loss did not improve from 0.00785\n",
            "60/60 [==============================] - 6s 102ms/step - loss: 1.3163e-04 - val_loss: 0.0088\n",
            "Epoch 21/100\n",
            "60/60 [==============================] - ETA: 0s - loss: 1.3299e-04\n",
            "Epoch 21: val_loss did not improve from 0.00785\n",
            "60/60 [==============================] - 6s 92ms/step - loss: 1.3299e-04 - val_loss: 0.0081\n",
            "Epoch 22/100\n",
            "60/60 [==============================] - ETA: 0s - loss: 1.2460e-04\n",
            "Epoch 22: val_loss did not improve from 0.00785\n",
            "60/60 [==============================] - 6s 102ms/step - loss: 1.2460e-04 - val_loss: 0.0083\n",
            "Epoch 23/100\n",
            "60/60 [==============================] - ETA: 0s - loss: 1.4042e-04\n",
            "Epoch 23: val_loss improved from 0.00785 to 0.00539, saving model to ./model_checkpoint.h5\n",
            "60/60 [==============================] - 6s 94ms/step - loss: 1.4042e-04 - val_loss: 0.0054\n",
            "Epoch 24/100\n",
            "60/60 [==============================] - ETA: 0s - loss: 1.3416e-04\n",
            "Epoch 24: val_loss did not improve from 0.00539\n",
            "60/60 [==============================] - 6s 100ms/step - loss: 1.3416e-04 - val_loss: 0.0087\n",
            "Epoch 25/100\n",
            "60/60 [==============================] - ETA: 0s - loss: 1.3322e-04\n",
            "Epoch 25: val_loss did not improve from 0.00539\n",
            "60/60 [==============================] - 5s 92ms/step - loss: 1.3322e-04 - val_loss: 0.0109\n",
            "Epoch 26/100\n",
            "60/60 [==============================] - ETA: 0s - loss: 1.1858e-04\n",
            "Epoch 26: val_loss did not improve from 0.00539\n",
            "60/60 [==============================] - 6s 103ms/step - loss: 1.1858e-04 - val_loss: 0.0112\n",
            "Epoch 27/100\n",
            "60/60 [==============================] - ETA: 0s - loss: 1.2922e-04\n",
            "Epoch 27: val_loss did not improve from 0.00539\n",
            "60/60 [==============================] - 5s 91ms/step - loss: 1.2922e-04 - val_loss: 0.0119\n",
            "Epoch 28/100\n",
            "60/60 [==============================] - ETA: 0s - loss: 1.2094e-04\n",
            "Epoch 28: val_loss did not improve from 0.00539\n",
            "60/60 [==============================] - 6s 103ms/step - loss: 1.2094e-04 - val_loss: 0.0071\n",
            "Epoch 29/100\n",
            "60/60 [==============================] - ETA: 0s - loss: 1.1571e-04\n",
            "Epoch 29: val_loss did not improve from 0.00539\n",
            "60/60 [==============================] - 6s 93ms/step - loss: 1.1571e-04 - val_loss: 0.0058\n",
            "Epoch 30/100\n",
            "60/60 [==============================] - ETA: 0s - loss: 1.3862e-04\n",
            "Epoch 30: val_loss did not improve from 0.00539\n",
            "60/60 [==============================] - 6s 105ms/step - loss: 1.3862e-04 - val_loss: 0.0058\n",
            "Epoch 31/100\n",
            "60/60 [==============================] - ETA: 0s - loss: 1.0862e-04\n",
            "Epoch 31: val_loss did not improve from 0.00539\n",
            "60/60 [==============================] - 9s 149ms/step - loss: 1.0862e-04 - val_loss: 0.0066\n",
            "Epoch 32/100\n",
            "60/60 [==============================] - ETA: 0s - loss: 1.0145e-04\n",
            "Epoch 32: val_loss improved from 0.00539 to 0.00402, saving model to ./model_checkpoint.h5\n",
            "60/60 [==============================] - 6s 104ms/step - loss: 1.0145e-04 - val_loss: 0.0040\n",
            "Epoch 33/100\n",
            "60/60 [==============================] - ETA: 0s - loss: 1.2792e-04\n",
            "Epoch 33: val_loss did not improve from 0.00402\n",
            "60/60 [==============================] - 6s 95ms/step - loss: 1.2792e-04 - val_loss: 0.0112\n",
            "Epoch 34/100\n",
            "60/60 [==============================] - ETA: 0s - loss: 1.2463e-04\n",
            "Epoch 34: val_loss did not improve from 0.00402\n",
            "60/60 [==============================] - 6s 103ms/step - loss: 1.2463e-04 - val_loss: 0.0122\n",
            "Epoch 35/100\n",
            "60/60 [==============================] - ETA: 0s - loss: 1.0425e-04\n",
            "Epoch 35: val_loss did not improve from 0.00402\n",
            "60/60 [==============================] - 6s 94ms/step - loss: 1.0425e-04 - val_loss: 0.0061\n",
            "Epoch 36/100\n",
            "60/60 [==============================] - ETA: 0s - loss: 9.5976e-05\n",
            "Epoch 36: val_loss improved from 0.00402 to 0.00397, saving model to ./model_checkpoint.h5\n",
            "60/60 [==============================] - 6s 106ms/step - loss: 9.5976e-05 - val_loss: 0.0040\n",
            "Epoch 37/100\n",
            "60/60 [==============================] - ETA: 0s - loss: 1.0730e-04\n",
            "Epoch 37: val_loss did not improve from 0.00397\n",
            "60/60 [==============================] - 6s 94ms/step - loss: 1.0730e-04 - val_loss: 0.0062\n",
            "Epoch 38/100\n",
            "60/60 [==============================] - ETA: 0s - loss: 1.0787e-04\n",
            "Epoch 38: val_loss did not improve from 0.00397\n",
            "60/60 [==============================] - 6s 107ms/step - loss: 1.0787e-04 - val_loss: 0.0067\n",
            "Epoch 39/100\n",
            "60/60 [==============================] - ETA: 0s - loss: 1.0946e-04\n",
            "Epoch 39: val_loss did not improve from 0.00397\n",
            "60/60 [==============================] - 6s 99ms/step - loss: 1.0946e-04 - val_loss: 0.0081\n",
            "Epoch 40/100\n",
            "60/60 [==============================] - ETA: 0s - loss: 1.1537e-04\n",
            "Epoch 40: val_loss did not improve from 0.00397\n",
            "60/60 [==============================] - 6s 102ms/step - loss: 1.1537e-04 - val_loss: 0.0093\n",
            "Epoch 41/100\n",
            "60/60 [==============================] - ETA: 0s - loss: 9.0528e-05\n",
            "Epoch 41: val_loss did not improve from 0.00397\n",
            "60/60 [==============================] - 6s 93ms/step - loss: 9.0528e-05 - val_loss: 0.0063\n",
            "Epoch 42/100\n",
            "60/60 [==============================] - ETA: 0s - loss: 1.0592e-04\n",
            "Epoch 42: val_loss did not improve from 0.00397\n",
            "60/60 [==============================] - 6s 102ms/step - loss: 1.0592e-04 - val_loss: 0.0056\n",
            "Epoch 43/100\n",
            "60/60 [==============================] - ETA: 0s - loss: 1.0616e-04\n",
            "Epoch 43: val_loss did not improve from 0.00397\n",
            "60/60 [==============================] - 5s 92ms/step - loss: 1.0616e-04 - val_loss: 0.0096\n",
            "Epoch 44/100\n",
            "60/60 [==============================] - ETA: 0s - loss: 1.1220e-04\n",
            "Epoch 44: val_loss did not improve from 0.00397\n",
            "60/60 [==============================] - 6s 102ms/step - loss: 1.1220e-04 - val_loss: 0.0098\n",
            "Epoch 45/100\n",
            "60/60 [==============================] - ETA: 0s - loss: 9.5801e-05\n",
            "Epoch 45: val_loss did not improve from 0.00397\n",
            "60/60 [==============================] - 5s 92ms/step - loss: 9.5801e-05 - val_loss: 0.0059\n",
            "Epoch 46/100\n",
            "60/60 [==============================] - ETA: 0s - loss: 1.0812e-04\n",
            "Epoch 46: val_loss did not improve from 0.00397\n",
            "60/60 [==============================] - 6s 104ms/step - loss: 1.0812e-04 - val_loss: 0.0085\n",
            "Epoch 47/100\n",
            "60/60 [==============================] - ETA: 0s - loss: 1.1364e-04\n",
            "Epoch 47: val_loss improved from 0.00397 to 0.00360, saving model to ./model_checkpoint.h5\n",
            "60/60 [==============================] - 6s 93ms/step - loss: 1.1364e-04 - val_loss: 0.0036\n",
            "Epoch 48/100\n",
            "60/60 [==============================] - ETA: 0s - loss: 1.1029e-04\n",
            "Epoch 48: val_loss did not improve from 0.00360\n",
            "60/60 [==============================] - 6s 102ms/step - loss: 1.1029e-04 - val_loss: 0.0066\n",
            "Epoch 49/100\n",
            "60/60 [==============================] - ETA: 0s - loss: 1.0581e-04\n",
            "Epoch 49: val_loss improved from 0.00360 to 0.00267, saving model to ./model_checkpoint.h5\n",
            "60/60 [==============================] - 6s 93ms/step - loss: 1.0581e-04 - val_loss: 0.0027\n",
            "Epoch 50/100\n",
            "60/60 [==============================] - ETA: 0s - loss: 9.2654e-05\n",
            "Epoch 50: val_loss did not improve from 0.00267\n",
            "60/60 [==============================] - 6s 102ms/step - loss: 9.2654e-05 - val_loss: 0.0066\n",
            "Epoch 51/100\n",
            "60/60 [==============================] - ETA: 0s - loss: 8.7407e-05\n",
            "Epoch 51: val_loss did not improve from 0.00267\n",
            "60/60 [==============================] - 6s 94ms/step - loss: 8.7407e-05 - val_loss: 0.0045\n",
            "Epoch 52/100\n",
            "60/60 [==============================] - ETA: 0s - loss: 1.0550e-04\n",
            "Epoch 52: val_loss did not improve from 0.00267\n",
            "60/60 [==============================] - 6s 101ms/step - loss: 1.0550e-04 - val_loss: 0.0059\n",
            "Epoch 53/100\n",
            "60/60 [==============================] - ETA: 0s - loss: 1.0207e-04\n",
            "Epoch 53: val_loss did not improve from 0.00267\n",
            "60/60 [==============================] - 6s 103ms/step - loss: 1.0207e-04 - val_loss: 0.0078\n",
            "Epoch 54/100\n",
            "60/60 [==============================] - ETA: 0s - loss: 1.0630e-04\n",
            "Epoch 54: val_loss did not improve from 0.00267\n",
            "60/60 [==============================] - 6s 102ms/step - loss: 1.0630e-04 - val_loss: 0.0063\n",
            "Epoch 55/100\n",
            "60/60 [==============================] - ETA: 0s - loss: 9.7967e-05\n",
            "Epoch 55: val_loss did not improve from 0.00267\n",
            "60/60 [==============================] - 6s 93ms/step - loss: 9.7967e-05 - val_loss: 0.0037\n",
            "Epoch 56/100\n",
            "60/60 [==============================] - ETA: 0s - loss: 8.9283e-05\n",
            "Epoch 56: val_loss did not improve from 0.00267\n",
            "60/60 [==============================] - 6s 103ms/step - loss: 8.9283e-05 - val_loss: 0.0051\n",
            "Epoch 57/100\n",
            "60/60 [==============================] - ETA: 0s - loss: 9.1045e-05\n",
            "Epoch 57: val_loss did not improve from 0.00267\n",
            "60/60 [==============================] - 5s 92ms/step - loss: 9.1045e-05 - val_loss: 0.0043\n",
            "Epoch 58/100\n",
            "60/60 [==============================] - ETA: 0s - loss: 1.1468e-04\n",
            "Epoch 58: val_loss did not improve from 0.00267\n",
            "60/60 [==============================] - 6s 101ms/step - loss: 1.1468e-04 - val_loss: 0.0091\n",
            "Epoch 59/100\n",
            "60/60 [==============================] - ETA: 0s - loss: 1.0207e-04\n",
            "Epoch 59: val_loss improved from 0.00267 to 0.00264, saving model to ./model_checkpoint.h5\n",
            "60/60 [==============================] - 6s 93ms/step - loss: 1.0207e-04 - val_loss: 0.0026\n",
            "Epoch 60/100\n",
            "60/60 [==============================] - ETA: 0s - loss: 1.1273e-04\n",
            "Epoch 60: val_loss did not improve from 0.00264\n",
            "60/60 [==============================] - 6s 102ms/step - loss: 1.1273e-04 - val_loss: 0.0039\n",
            "Epoch 61/100\n",
            "60/60 [==============================] - ETA: 0s - loss: 8.8464e-05\n",
            "Epoch 61: val_loss did not improve from 0.00264\n",
            "60/60 [==============================] - 6s 92ms/step - loss: 8.8464e-05 - val_loss: 0.0047\n",
            "Epoch 62/100\n",
            "60/60 [==============================] - ETA: 0s - loss: 8.6832e-05\n",
            "Epoch 62: val_loss did not improve from 0.00264\n",
            "60/60 [==============================] - 6s 102ms/step - loss: 8.6832e-05 - val_loss: 0.0078\n",
            "Epoch 63/100\n",
            "60/60 [==============================] - ETA: 0s - loss: 9.3918e-05\n",
            "Epoch 63: val_loss did not improve from 0.00264\n",
            "60/60 [==============================] - 6s 93ms/step - loss: 9.3918e-05 - val_loss: 0.0054\n",
            "Epoch 64/100\n",
            "60/60 [==============================] - ETA: 0s - loss: 8.8490e-05\n",
            "Epoch 64: val_loss did not improve from 0.00264\n",
            "60/60 [==============================] - 6s 101ms/step - loss: 8.8490e-05 - val_loss: 0.0046\n",
            "Epoch 65/100\n",
            "60/60 [==============================] - ETA: 0s - loss: 8.6055e-05\n",
            "Epoch 65: val_loss did not improve from 0.00264\n",
            "60/60 [==============================] - 6s 94ms/step - loss: 8.6055e-05 - val_loss: 0.0094\n",
            "Epoch 66/100\n",
            "60/60 [==============================] - ETA: 0s - loss: 8.8535e-05\n",
            "Epoch 66: val_loss did not improve from 0.00264\n",
            "60/60 [==============================] - 6s 103ms/step - loss: 8.8535e-05 - val_loss: 0.0042\n",
            "Epoch 67/100\n",
            "60/60 [==============================] - ETA: 0s - loss: 8.3970e-05\n",
            "Epoch 67: val_loss did not improve from 0.00264\n",
            "60/60 [==============================] - 6s 93ms/step - loss: 8.3970e-05 - val_loss: 0.0044\n",
            "Epoch 68/100\n",
            "60/60 [==============================] - ETA: 0s - loss: 9.4157e-05\n",
            "Epoch 68: val_loss did not improve from 0.00264\n",
            "60/60 [==============================] - 6s 104ms/step - loss: 9.4157e-05 - val_loss: 0.0071\n",
            "Epoch 69/100\n",
            "60/60 [==============================] - ETA: 0s - loss: 7.1671e-05\n",
            "Epoch 69: val_loss did not improve from 0.00264\n",
            "60/60 [==============================] - 6s 93ms/step - loss: 7.1671e-05 - val_loss: 0.0057\n",
            "Epoch 70/100\n",
            "60/60 [==============================] - ETA: 0s - loss: 9.0639e-05\n",
            "Epoch 70: val_loss improved from 0.00264 to 0.00252, saving model to ./model_checkpoint.h5\n",
            "60/60 [==============================] - 6s 103ms/step - loss: 9.0639e-05 - val_loss: 0.0025\n",
            "Epoch 71/100\n",
            "60/60 [==============================] - ETA: 0s - loss: 8.7045e-05\n",
            "Epoch 71: val_loss did not improve from 0.00252\n",
            "60/60 [==============================] - 6s 93ms/step - loss: 8.7045e-05 - val_loss: 0.0026\n",
            "Epoch 72/100\n",
            "60/60 [==============================] - ETA: 0s - loss: 8.4027e-05\n",
            "Epoch 72: val_loss improved from 0.00252 to 0.00209, saving model to ./model_checkpoint.h5\n",
            "60/60 [==============================] - 6s 102ms/step - loss: 8.4027e-05 - val_loss: 0.0021\n",
            "Epoch 73/100\n",
            "60/60 [==============================] - ETA: 0s - loss: 7.6931e-05\n",
            "Epoch 73: val_loss did not improve from 0.00209\n",
            "60/60 [==============================] - 6s 93ms/step - loss: 7.6931e-05 - val_loss: 0.0075\n",
            "Epoch 74/100\n",
            "60/60 [==============================] - ETA: 0s - loss: 7.9717e-05\n",
            "Epoch 74: val_loss did not improve from 0.00209\n",
            "60/60 [==============================] - 6s 103ms/step - loss: 7.9717e-05 - val_loss: 0.0066\n",
            "Epoch 75/100\n",
            "60/60 [==============================] - ETA: 0s - loss: 1.0026e-04\n",
            "Epoch 75: val_loss did not improve from 0.00209\n",
            "60/60 [==============================] - 6s 93ms/step - loss: 1.0026e-04 - val_loss: 0.0046\n",
            "Epoch 76/100\n",
            "60/60 [==============================] - ETA: 0s - loss: 8.8490e-05\n",
            "Epoch 76: val_loss did not improve from 0.00209\n",
            "60/60 [==============================] - 6s 102ms/step - loss: 8.8490e-05 - val_loss: 0.0061\n",
            "Epoch 77/100\n",
            "60/60 [==============================] - ETA: 0s - loss: 8.8628e-05\n",
            "Epoch 77: val_loss did not improve from 0.00209\n",
            "60/60 [==============================] - 6s 92ms/step - loss: 8.8628e-05 - val_loss: 0.0036\n",
            "Epoch 78/100\n",
            "60/60 [==============================] - ETA: 0s - loss: 1.0121e-04\n",
            "Epoch 78: val_loss did not improve from 0.00209\n",
            "60/60 [==============================] - 6s 101ms/step - loss: 1.0121e-04 - val_loss: 0.0036\n",
            "Epoch 79/100\n",
            "60/60 [==============================] - ETA: 0s - loss: 8.3898e-05\n",
            "Epoch 79: val_loss did not improve from 0.00209\n",
            "60/60 [==============================] - 6s 92ms/step - loss: 8.3898e-05 - val_loss: 0.0062\n",
            "Epoch 80/100\n",
            "60/60 [==============================] - ETA: 0s - loss: 7.6043e-05\n",
            "Epoch 80: val_loss improved from 0.00209 to 0.00170, saving model to ./model_checkpoint.h5\n",
            "60/60 [==============================] - 6s 101ms/step - loss: 7.6043e-05 - val_loss: 0.0017\n",
            "Epoch 81/100\n",
            "60/60 [==============================] - ETA: 0s - loss: 8.4958e-05\n",
            "Epoch 81: val_loss did not improve from 0.00170\n",
            "60/60 [==============================] - 6s 92ms/step - loss: 8.4958e-05 - val_loss: 0.0021\n",
            "Epoch 82/100\n",
            "60/60 [==============================] - ETA: 0s - loss: 7.9916e-05\n",
            "Epoch 82: val_loss did not improve from 0.00170\n",
            "60/60 [==============================] - 6s 101ms/step - loss: 7.9916e-05 - val_loss: 0.0060\n",
            "Epoch 83/100\n",
            "60/60 [==============================] - ETA: 0s - loss: 7.9763e-05\n",
            "Epoch 83: val_loss did not improve from 0.00170\n",
            "60/60 [==============================] - 6s 94ms/step - loss: 7.9763e-05 - val_loss: 0.0060\n",
            "Epoch 84/100\n",
            "60/60 [==============================] - ETA: 0s - loss: 7.8797e-05\n",
            "Epoch 84: val_loss did not improve from 0.00170\n",
            "60/60 [==============================] - 6s 100ms/step - loss: 7.8797e-05 - val_loss: 0.0048\n",
            "Epoch 85/100\n",
            "60/60 [==============================] - ETA: 0s - loss: 9.2403e-05\n",
            "Epoch 85: val_loss did not improve from 0.00170\n",
            "60/60 [==============================] - 6s 93ms/step - loss: 9.2403e-05 - val_loss: 0.0049\n",
            "Epoch 86/100\n",
            "60/60 [==============================] - ETA: 0s - loss: 7.5496e-05\n",
            "Epoch 86: val_loss did not improve from 0.00170\n",
            "60/60 [==============================] - 6s 98ms/step - loss: 7.5496e-05 - val_loss: 0.0052\n",
            "Epoch 87/100\n",
            "60/60 [==============================] - ETA: 0s - loss: 8.7877e-05\n",
            "Epoch 87: val_loss did not improve from 0.00170\n",
            "60/60 [==============================] - 6s 99ms/step - loss: 8.7877e-05 - val_loss: 0.0044\n",
            "Epoch 88/100\n",
            "60/60 [==============================] - ETA: 0s - loss: 7.2974e-05\n",
            "Epoch 88: val_loss did not improve from 0.00170\n",
            "60/60 [==============================] - 6s 98ms/step - loss: 7.2974e-05 - val_loss: 0.0048\n",
            "Epoch 89/100\n",
            "60/60 [==============================] - ETA: 0s - loss: 7.0883e-05\n",
            "Epoch 89: val_loss did not improve from 0.00170\n",
            "60/60 [==============================] - 6s 105ms/step - loss: 7.0883e-05 - val_loss: 0.0022\n",
            "Epoch 90/100\n",
            "60/60 [==============================] - ETA: 0s - loss: 7.1313e-05\n",
            "Epoch 90: val_loss did not improve from 0.00170\n",
            "60/60 [==============================] - 6s 98ms/step - loss: 7.1313e-05 - val_loss: 0.0033\n",
            "Epoch 91/100\n",
            "60/60 [==============================] - ETA: 0s - loss: 8.4259e-05\n",
            "Epoch 91: val_loss did not improve from 0.00170\n",
            "60/60 [==============================] - 6s 95ms/step - loss: 8.4259e-05 - val_loss: 0.0042\n",
            "Epoch 92/100\n",
            "60/60 [==============================] - ETA: 0s - loss: 7.9761e-05\n",
            "Epoch 92: val_loss improved from 0.00170 to 0.00158, saving model to ./model_checkpoint.h5\n",
            "60/60 [==============================] - 6s 96ms/step - loss: 7.9761e-05 - val_loss: 0.0016\n",
            "Epoch 93/100\n",
            "60/60 [==============================] - ETA: 0s - loss: 7.5525e-05\n",
            "Epoch 93: val_loss did not improve from 0.00158\n",
            "60/60 [==============================] - 6s 97ms/step - loss: 7.5525e-05 - val_loss: 0.0021\n",
            "Epoch 94/100\n",
            "60/60 [==============================] - ETA: 0s - loss: 6.5763e-05\n",
            "Epoch 94: val_loss did not improve from 0.00158\n",
            "60/60 [==============================] - 6s 94ms/step - loss: 6.5763e-05 - val_loss: 0.0037\n",
            "Epoch 95/100\n",
            "60/60 [==============================] - ETA: 0s - loss: 7.4256e-05\n",
            "Epoch 95: val_loss did not improve from 0.00158\n",
            "60/60 [==============================] - 6s 97ms/step - loss: 7.4256e-05 - val_loss: 0.0025\n",
            "Epoch 96/100\n",
            "60/60 [==============================] - ETA: 0s - loss: 7.4037e-05\n",
            "Epoch 96: val_loss did not improve from 0.00158\n",
            "60/60 [==============================] - 5s 91ms/step - loss: 7.4037e-05 - val_loss: 0.0020\n",
            "Epoch 97/100\n",
            "60/60 [==============================] - ETA: 0s - loss: 6.7266e-05\n",
            "Epoch 97: val_loss did not improve from 0.00158\n",
            "60/60 [==============================] - 6s 104ms/step - loss: 6.7266e-05 - val_loss: 0.0017\n",
            "Epoch 98/100\n",
            "60/60 [==============================] - ETA: 0s - loss: 7.8540e-05\n",
            "Epoch 98: val_loss did not improve from 0.00158\n",
            "60/60 [==============================] - 6s 92ms/step - loss: 7.8540e-05 - val_loss: 0.0063\n",
            "Epoch 99/100\n",
            "60/60 [==============================] - ETA: 0s - loss: 9.0871e-05\n",
            "Epoch 99: val_loss did not improve from 0.00158\n",
            "60/60 [==============================] - 6s 102ms/step - loss: 9.0871e-05 - val_loss: 0.0089\n",
            "Epoch 100/100\n",
            "60/60 [==============================] - ETA: 0s - loss: 8.7514e-05\n",
            "Epoch 100: val_loss did not improve from 0.00158\n",
            "60/60 [==============================] - 6s 92ms/step - loss: 8.7514e-05 - val_loss: 0.0054\n"
          ]
        }
      ],
      "source": [
        "history = regressor.fit(X_train, y_train, epochs=100, batch_size=32, validation_split=0.2, callbacks=[early_stopping, model_checkpoint])"
      ]
    },
    {
      "attachments": {},
      "cell_type": "markdown",
      "metadata": {
        "id": "SucSt9CAYLgG"
      },
      "source": [
        "# Load the best model checkpoint"
      ]
    },
    {
      "cell_type": "code",
      "execution_count": 12,
      "metadata": {
        "id": "4ekOVMqnYOBu"
      },
      "outputs": [],
      "source": [
        "regressor.load_weights('./model_checkpoint.h5')"
      ]
    },
    {
      "attachments": {},
      "cell_type": "markdown",
      "metadata": {
        "id": "HXm9QZp6YQ_e"
      },
      "source": [
        "# Import the test set"
      ]
    },
    {
      "cell_type": "code",
      "execution_count": 13,
      "metadata": {
        "id": "V7JuKmZtYUad"
      },
      "outputs": [],
      "source": [
        "dataset_test = pd.read_csv(f\"{SYMBOL}_test_set.csv\")\n",
        "real_price = dataset_test.iloc[:, 4:5].values  # Consider only the 'Close' price for testing"
      ]
    },
    {
      "attachments": {},
      "cell_type": "markdown",
      "metadata": {
        "id": "MROXzgJXYZ_l"
      },
      "source": [
        "# Combine training and test sets for prediction"
      ]
    },
    {
      "cell_type": "code",
      "execution_count": 14,
      "metadata": {
        "id": "KSmclw3FYcOe"
      },
      "outputs": [],
      "source": [
        "dataset_total = pd.concat((dataset_train['Close'], dataset_test['Close']), axis=0)\n",
        "inputs = dataset_total[len(dataset_total) - len(dataset_test) - TIMESTEPS:].values\n",
        "inputs = inputs.reshape(-1, 1)\n",
        "inputs = sc.transform(inputs)\n",
        "X_test = []"
      ]
    },
    {
      "attachments": {},
      "cell_type": "markdown",
      "metadata": {
        "id": "Tp8Xr3koYeBm"
      },
      "source": [
        "# Generate test sequences for prediction"
      ]
    },
    {
      "cell_type": "code",
      "execution_count": 15,
      "metadata": {
        "id": "s6K4awnGYgHe"
      },
      "outputs": [],
      "source": [
        "for i in range(TIMESTEPS, len(inputs)):\n",
        "    X_test.append(inputs[i-TIMESTEPS:i, 0])  # Input sequence of 60 timesteps\n",
        "\n",
        "X_test = np.array(X_test)\n",
        "X_test = np.reshape(X_test, (X_test.shape[0], X_test.shape[1], 1))"
      ]
    },
    {
      "attachments": {},
      "cell_type": "markdown",
      "metadata": {
        "id": "ZZJPOFdOYjhX"
      },
      "source": [
        "# Predict the market prices"
      ]
    },
    {
      "cell_type": "code",
      "execution_count": 16,
      "metadata": {
        "colab": {
          "base_uri": "https://localhost:8080/"
        },
        "id": "2rEOZjz4YlPf",
        "outputId": "e313add3-7604-41f3-db73-3141a18eccad"
      },
      "outputs": [
        {
          "name": "stdout",
          "output_type": "stream",
          "text": [
            "25/25 [==============================] - 2s 26ms/step\n"
          ]
        }
      ],
      "source": [
        "predicted_price = regressor.predict(X_test)\n",
        "predicted_price = sc.inverse_transform(predicted_price)"
      ]
    },
    {
      "attachments": {},
      "cell_type": "markdown",
      "metadata": {
        "id": "ucYPE8Y7Yl2G"
      },
      "source": [
        "# Calculate R2 score"
      ]
    },
    {
      "cell_type": "code",
      "execution_count": 17,
      "metadata": {
        "id": "mFFTc2jCYrBG"
      },
      "outputs": [],
      "source": [
        "r2_score_value = r2_score(real_price, predicted_price) * 100\n",
        "r2_score_value = round(r2_score_value, 2)"
      ]
    },
    {
      "attachments": {},
      "cell_type": "markdown",
      "metadata": {
        "id": "YWPDeBupYrjn"
      },
      "source": [
        "# Convert time to datetime format"
      ]
    },
    {
      "cell_type": "code",
      "execution_count": 18,
      "metadata": {
        "id": "GHjGGBTHYuxe"
      },
      "outputs": [],
      "source": [
        "dates = pd.to_datetime(dataset_test['Date'])"
      ]
    },
    {
      "attachments": {},
      "cell_type": "markdown",
      "metadata": {
        "id": "61U_hjH9Yxb3"
      },
      "source": [
        "# Visualize the results with time axis in normal format"
      ]
    },
    {
      "cell_type": "code",
      "execution_count": 19,
      "metadata": {
        "colab": {
          "base_uri": "https://localhost:8080/",
          "height": 467
        },
        "id": "7r-164OrYyY-",
        "outputId": "d90167ba-5fad-44fc-ba1e-54fe4859b2c0"
      },
      "outputs": [
        {
          "data": {
            "image/png": "[encoded data removed]",
            "text/plain": [
              "<Figure size 640x480 with 1 Axes>"
            ]
          },
          "metadata": {},
          "output_type": "display_data"
        }
      ],
      "source": [
        "plt.plot(dates, real_price, color='red', label=f'Real {SYMBOL} Market Price')\n",
        "plt.plot(dates, predicted_price, color='blue', label=f'Predicted {SYMBOL} Market Price')\n",
        "plt.title(f\"{SYMBOL} Market Price Prediction: {r2_score_value}% accurate.\")\n",
        "plt.xlabel('Time')\n",
        "plt.ylabel(f'{SYMBOL} Market Price')\n",
        "plt.gca().xaxis.set_major_formatter(mdates.DateFormatter('%Y-%m-%d'))\n",
        "plt.gca().xaxis.set_major_locator(mdates.AutoDateLocator())\n",
        "plt.gcf().autofmt_xdate()\n",
        "plt.legend()\n",
        "plt.show()"
      ]
    }
  ],
  "metadata": {
    "colab": {
      "provenance": []
    },
    "kernelspec": {
      "display_name": "Python 3",
      "name": "python3"
    },
    "language_info": {
      "name": "python"
    }
  },
  "nbformat": 4,
  "nbformat_minor": 0
}
